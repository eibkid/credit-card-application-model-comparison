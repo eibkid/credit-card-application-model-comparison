{
 "cells": [
  {
   "cell_type": "code",
   "execution_count": 415,
   "id": "88036ee5-d7b0-4544-8110-354acbfe48cb",
   "metadata": {},
   "outputs": [],
   "source": [
    "#importing libraries\n",
    "import pandas as pd\n",
    "import numpy as np\n",
    "import matplotlib.pyplot as plt\n",
    "from sklearn.model_selection import train_test_split\n",
    "from sklearn.preprocessing import MinMaxScaler\n",
    "import seaborn as sns\n",
    "from sklearn.metrics import plot_confusion_matrix\n",
    "from sklearn.metrics import confusion_matrix\n",
    "from sklearn.tree import DecisionTreeRegressor\n",
    "from sklearn.ensemble import RandomForestClassifier\n",
    "from sklearn.metrics import accuracy_score, precision_score, recall_score, confusion_matrix, precision_recall_curve\n",
    "\n",
    "import keras\n",
    "from sklearn import preprocessing\n",
    "from sklearn.preprocessing import StandardScaler\n",
    "from tensorflow.keras.models import Sequential\n",
    "from tensorflow.keras.layers import Dense\n",
    "\n",
    "from sklearn.model_selection import RandomizedSearchCV \n",
    "from sklearn.model_selection import GridSearchCV\n",
    "import pickle"
   ]
  },
  {
   "cell_type": "code",
   "execution_count": null,
   "id": "b8d37cf6-7ccd-4932-ad00-b6249fb2e325",
   "metadata": {},
   "outputs": [],
   "source": []
  },
  {
   "cell_type": "code",
   "execution_count": 307,
   "id": "20b8076f-69e0-4ac6-b44e-58add502eef8",
   "metadata": {},
   "outputs": [
    {
     "data": {
      "text/html": [
       "<div>\n",
       "<style scoped>\n",
       "    .dataframe tbody tr th:only-of-type {\n",
       "        vertical-align: middle;\n",
       "    }\n",
       "\n",
       "    .dataframe tbody tr th {\n",
       "        vertical-align: top;\n",
       "    }\n",
       "\n",
       "    .dataframe thead th {\n",
       "        text-align: right;\n",
       "    }\n",
       "</style>\n",
       "<table border=\"1\" class=\"dataframe\">\n",
       "  <thead>\n",
       "    <tr style=\"text-align: right;\">\n",
       "      <th></th>\n",
       "      <th>A</th>\n",
       "    </tr>\n",
       "  </thead>\n",
       "  <tbody>\n",
       "    <tr>\n",
       "      <th>0</th>\n",
       "      <td>0 22.67 7 2 8 4 0.165 0 0 0 0 2 160 1 0</td>\n",
       "    </tr>\n",
       "    <tr>\n",
       "      <th>1</th>\n",
       "      <td>0 29.58 1.75 1 4 4 1.25 0 0 0 1 2 280 1 0</td>\n",
       "    </tr>\n",
       "    <tr>\n",
       "      <th>2</th>\n",
       "      <td>0 21.67 11.5 1 5 3 0 1 1 11 1 2 0 1 1</td>\n",
       "    </tr>\n",
       "    <tr>\n",
       "      <th>3</th>\n",
       "      <td>1 20.17 8.17 2 6 4 1.96 1 1 14 0 2 60 159 1</td>\n",
       "    </tr>\n",
       "    <tr>\n",
       "      <th>4</th>\n",
       "      <td>0 15.83 0.585 2 8 8 1.5 1 1 2 0 2 100 1 1</td>\n",
       "    </tr>\n",
       "  </tbody>\n",
       "</table>\n",
       "</div>"
      ],
      "text/plain": [
       "                                             A\n",
       "0      0 22.67 7 2 8 4 0.165 0 0 0 0 2 160 1 0\n",
       "1    0 29.58 1.75 1 4 4 1.25 0 0 0 1 2 280 1 0\n",
       "2        0 21.67 11.5 1 5 3 0 1 1 11 1 2 0 1 1\n",
       "3  1 20.17 8.17 2 6 4 1.96 1 1 14 0 2 60 159 1\n",
       "4    0 15.83 0.585 2 8 8 1.5 1 1 2 0 2 100 1 1"
      ]
     },
     "execution_count": 307,
     "metadata": {},
     "output_type": "execute_result"
    }
   ],
   "source": [
    "#reading the data from my directory\n",
    "data = pd.read_csv(\"/users/uneku/downloads/australian.dat\")\n",
    "data.columns.values[0]='A'\n",
    "data.head()"
   ]
  },
  {
   "cell_type": "code",
   "execution_count": 308,
   "id": "c9e38d7b-a6d6-4a1e-95d1-98bb85ea57bd",
   "metadata": {},
   "outputs": [],
   "source": [
    "#saving the data to a csv to visualize on my laptop\n",
    "#data.to_csv('auData.csv', index= False, header = True)"
   ]
  },
  {
   "cell_type": "code",
   "execution_count": 309,
   "id": "d51591ee-16f6-48fe-a89e-b38a28644146",
   "metadata": {},
   "outputs": [
    {
     "data": {
      "text/html": [
       "<div>\n",
       "<style scoped>\n",
       "    .dataframe tbody tr th:only-of-type {\n",
       "        vertical-align: middle;\n",
       "    }\n",
       "\n",
       "    .dataframe tbody tr th {\n",
       "        vertical-align: top;\n",
       "    }\n",
       "\n",
       "    .dataframe thead th {\n",
       "        text-align: right;\n",
       "    }\n",
       "</style>\n",
       "<table border=\"1\" class=\"dataframe\">\n",
       "  <thead>\n",
       "    <tr style=\"text-align: right;\">\n",
       "      <th></th>\n",
       "      <th>0</th>\n",
       "      <th>1</th>\n",
       "      <th>2</th>\n",
       "      <th>3</th>\n",
       "      <th>4</th>\n",
       "      <th>5</th>\n",
       "      <th>6</th>\n",
       "      <th>7</th>\n",
       "      <th>8</th>\n",
       "      <th>9</th>\n",
       "      <th>10</th>\n",
       "      <th>11</th>\n",
       "      <th>12</th>\n",
       "      <th>13</th>\n",
       "      <th>14</th>\n",
       "    </tr>\n",
       "  </thead>\n",
       "  <tbody>\n",
       "    <tr>\n",
       "      <th>0</th>\n",
       "      <td>0</td>\n",
       "      <td>22.67</td>\n",
       "      <td>7</td>\n",
       "      <td>2</td>\n",
       "      <td>8</td>\n",
       "      <td>4</td>\n",
       "      <td>0.165</td>\n",
       "      <td>0</td>\n",
       "      <td>0</td>\n",
       "      <td>0</td>\n",
       "      <td>0</td>\n",
       "      <td>2</td>\n",
       "      <td>160</td>\n",
       "      <td>1</td>\n",
       "      <td>0</td>\n",
       "    </tr>\n",
       "    <tr>\n",
       "      <th>1</th>\n",
       "      <td>0</td>\n",
       "      <td>29.58</td>\n",
       "      <td>1.75</td>\n",
       "      <td>1</td>\n",
       "      <td>4</td>\n",
       "      <td>4</td>\n",
       "      <td>1.25</td>\n",
       "      <td>0</td>\n",
       "      <td>0</td>\n",
       "      <td>0</td>\n",
       "      <td>1</td>\n",
       "      <td>2</td>\n",
       "      <td>280</td>\n",
       "      <td>1</td>\n",
       "      <td>0</td>\n",
       "    </tr>\n",
       "    <tr>\n",
       "      <th>2</th>\n",
       "      <td>0</td>\n",
       "      <td>21.67</td>\n",
       "      <td>11.5</td>\n",
       "      <td>1</td>\n",
       "      <td>5</td>\n",
       "      <td>3</td>\n",
       "      <td>0</td>\n",
       "      <td>1</td>\n",
       "      <td>1</td>\n",
       "      <td>11</td>\n",
       "      <td>1</td>\n",
       "      <td>2</td>\n",
       "      <td>0</td>\n",
       "      <td>1</td>\n",
       "      <td>1</td>\n",
       "    </tr>\n",
       "    <tr>\n",
       "      <th>3</th>\n",
       "      <td>1</td>\n",
       "      <td>20.17</td>\n",
       "      <td>8.17</td>\n",
       "      <td>2</td>\n",
       "      <td>6</td>\n",
       "      <td>4</td>\n",
       "      <td>1.96</td>\n",
       "      <td>1</td>\n",
       "      <td>1</td>\n",
       "      <td>14</td>\n",
       "      <td>0</td>\n",
       "      <td>2</td>\n",
       "      <td>60</td>\n",
       "      <td>159</td>\n",
       "      <td>1</td>\n",
       "    </tr>\n",
       "    <tr>\n",
       "      <th>4</th>\n",
       "      <td>0</td>\n",
       "      <td>15.83</td>\n",
       "      <td>0.585</td>\n",
       "      <td>2</td>\n",
       "      <td>8</td>\n",
       "      <td>8</td>\n",
       "      <td>1.5</td>\n",
       "      <td>1</td>\n",
       "      <td>1</td>\n",
       "      <td>2</td>\n",
       "      <td>0</td>\n",
       "      <td>2</td>\n",
       "      <td>100</td>\n",
       "      <td>1</td>\n",
       "      <td>1</td>\n",
       "    </tr>\n",
       "  </tbody>\n",
       "</table>\n",
       "</div>"
      ],
      "text/plain": [
       "  0      1      2  3  4  5      6  7  8   9  10 11   12   13 14\n",
       "0  0  22.67      7  2  8  4  0.165  0  0   0  0  2  160    1  0\n",
       "1  0  29.58   1.75  1  4  4   1.25  0  0   0  1  2  280    1  0\n",
       "2  0  21.67   11.5  1  5  3      0  1  1  11  1  2    0    1  1\n",
       "3  1  20.17   8.17  2  6  4   1.96  1  1  14  0  2   60  159  1\n",
       "4  0  15.83  0.585  2  8  8    1.5  1  1   2  0  2  100    1  1"
      ]
     },
     "execution_count": 309,
     "metadata": {},
     "output_type": "execute_result"
    }
   ],
   "source": [
    "#seperating the data into seperate columns for workability and clarity\n",
    "wData = data.A.str.split(expand=True,)\n",
    "wData.head()"
   ]
  },
  {
   "cell_type": "code",
   "execution_count": 310,
   "id": "61d5686b-69f8-47e0-8533-402f6221eaec",
   "metadata": {},
   "outputs": [],
   "source": [
    "#First Model = Random Forest"
   ]
  },
  {
   "cell_type": "code",
   "execution_count": 311,
   "id": "7ce7d591-8164-4e7e-9d0c-70c0267ea728",
   "metadata": {},
   "outputs": [],
   "source": [
    "wData = wData.dropna(axis=0)"
   ]
  },
  {
   "cell_type": "code",
   "execution_count": 312,
   "id": "d6484b7b-f8b4-4ba9-b423-257e6081dc00",
   "metadata": {},
   "outputs": [
    {
     "name": "stdout",
     "output_type": "stream",
     "text": [
      "[['22.67' '7' '2' ... '2' '160' '1']\n",
      " ['29.58' '1.75' '1' ... '2' '280' '1']\n",
      " ['21.67' '11.5' '1' ... '2' '0' '1']\n",
      " ...\n",
      " ['18.83' '9.54' '2' ... '2' '100' '1']\n",
      " ['27.42' '14.5' '2' ... '2' '120' '12']\n",
      " ['41' '0.04' '2' ... '1' '560' '1']]\n"
     ]
    }
   ],
   "source": [
    "x= wData.iloc[:,1:14].values\n",
    "print(x)"
   ]
  },
  {
   "cell_type": "code",
   "execution_count": 313,
   "id": "73e714c0-9eef-4384-9d66-8494183c090d",
   "metadata": {},
   "outputs": [
    {
     "name": "stdout",
     "output_type": "stream",
     "text": [
      "['0' '0' '1' '1' '1' '0' '1' '0' '0' '1' '1' '0' '1' '0' '1' '1' '1' '0'\n",
      " '1' '0' '0' '0' '0' '0' '1' '0' '1' '1' '1' '1' '0' '0' '1' '0' '0' '1'\n",
      " '1' '1' '1' '1' '0' '1' '0' '0' '1' '0' '1' '0' '1' '0' '0' '0' '0' '0'\n",
      " '1' '1' '0' '1' '1' '0' '0' '1' '0' '1' '1' '0' '0' '0' '1' '0' '0' '0'\n",
      " '1' '1' '0' '0' '0' '0' '1' '1' '0' '0' '0' '0' '1' '0' '1' '1' '0' '0'\n",
      " '0' '0' '1' '0' '1' '0' '0' '0' '1' '0' '1' '1' '1' '0' '1' '1' '0' '1'\n",
      " '0' '0' '0' '0' '1' '0' '1' '1' '1' '1' '1' '1' '0' '0' '1' '1' '0' '1'\n",
      " '0' '1' '1' '1' '0' '0' '0' '0' '0' '0' '1' '1' '1' '0' '0' '0' '1' '0'\n",
      " '1' '1' '0' '0' '1' '1' '0' '0' '0' '1' '1' '1' '0' '1' '0' '0' '0' '1'\n",
      " '1' '0' '0' '0' '1' '0' '0' '0' '1' '0' '0' '1' '0' '0' '0' '1' '1' '0'\n",
      " '0' '1' '1' '1' '0' '0' '0' '0' '0' '0' '1' '0' '0' '0' '1' '1' '0' '0'\n",
      " '0' '1' '0' '1' '0' '1' '1' '0' '0' '0' '0' '1' '1' '0' '0' '0' '1' '0'\n",
      " '0' '0' '1' '1' '0' '1' '0' '0' '0' '0' '1' '1' '1' '1' '0' '0' '1' '1'\n",
      " '1' '0' '0' '0' '1' '1' '1' '1' '0' '0' '0' '0' '1' '1' '1' '0' '0' '1'\n",
      " '0' '1' '1' '1' '1' '0' '0' '0' '1' '0' '1' '1' '0' '0' '1' '0' '0' '0'\n",
      " '1' '0' '1' '1' '0' '0' '0' '1' '1' '0' '0' '0' '0' '0' '1' '1' '1' '0'\n",
      " '0' '0' '0' '1' '1' '1' '0' '0' '0' '1' '0' '1' '0' '0' '0' '0' '1' '0'\n",
      " '1' '0' '0' '0' '0' '0' '1' '1' '0' '0' '1' '0' '1' '1' '1' '1' '1' '1'\n",
      " '1' '0' '0' '0' '0' '1' '1' '1' '0' '0' '0' '1' '0' '1' '0' '0' '0' '1'\n",
      " '1' '1' '1' '1' '1' '1' '0' '1' '0' '1' '0' '0' '0' '0' '0' '1' '0' '1'\n",
      " '1' '0' '0' '0' '0' '0' '1' '0' '1' '1' '0' '0' '0' '1' '1' '1' '0' '0'\n",
      " '1' '1' '0' '0' '0' '1' '1' '0' '1' '1' '1' '1' '0' '0' '1' '1' '0' '0'\n",
      " '0' '0' '0' '0' '1' '0' '0' '0' '1' '1' '0' '1' '0' '0' '0' '1' '1' '1'\n",
      " '0' '0' '1' '0' '1' '1' '1' '0' '1' '0' '0' '1' '0' '0' '0' '1' '0' '0'\n",
      " '1' '0' '1' '0' '1' '1' '0' '1' '0' '0' '1' '0' '1' '1' '0' '0' '0' '0'\n",
      " '0' '1' '1' '0' '0' '1' '1' '0' '1' '0' '1' '0' '1' '0' '1' '1' '0' '1'\n",
      " '0' '1' '1' '1' '0' '0' '0' '0' '0' '1' '0' '1' '0' '0' '0' '1' '1' '1'\n",
      " '1' '1' '0' '1' '1' '0' '0' '0' '1' '1' '1' '1' '1' '1' '0' '1' '1' '1'\n",
      " '1' '0' '0' '0' '0' '0' '0' '0' '1' '0' '0' '1' '1' '1' '0' '1' '0' '0'\n",
      " '1' '1' '0' '1' '0' '0' '0' '0' '0' '0' '1' '0' '1' '0' '1' '1' '1' '0'\n",
      " '0' '1' '0' '0' '0' '0' '0' '0' '0' '1' '1' '0' '0' '0' '0' '0' '1' '0'\n",
      " '1' '0' '1' '0' '0' '1' '1' '1' '0' '0' '0' '0' '0' '1' '0' '1' '1' '0'\n",
      " '0' '0' '0' '0' '1' '1' '1' '0' '1' '0' '1' '1' '0' '0' '1' '0' '1' '0'\n",
      " '0' '1' '1' '0' '1' '0' '1' '1' '1' '1' '0' '0' '1' '0' '1' '1' '0' '1'\n",
      " '0' '1' '1' '0' '0' '0' '1' '0' '1' '1' '0' '1' '0' '0' '0' '0' '0' '1'\n",
      " '0' '1' '0' '0' '0' '0' '0' '0' '1' '0' '1' '1' '0' '0' '0' '0' '0' '0'\n",
      " '1' '1' '0' '0' '1' '0' '0' '1' '0' '0' '1' '1' '0' '1' '1' '0' '0' '0'\n",
      " '0' '0' '0' '1' '1' '0' '1' '1' '0' '0' '0' '0' '1' '0' '0' '1' '0' '1'\n",
      " '1' '0' '1' '1' '1']\n"
     ]
    }
   ],
   "source": [
    "y = wData.iloc[:,14].values\n",
    "print(y)"
   ]
  },
  {
   "cell_type": "code",
   "execution_count": 314,
   "id": "cddb6dc6-9758-49c9-9f72-b2b562bba451",
   "metadata": {},
   "outputs": [
    {
     "data": {
      "text/plain": [
       "MinMaxScaler()"
      ]
     },
     "execution_count": 314,
     "metadata": {},
     "output_type": "execute_result"
    }
   ],
   "source": [
    "scaler = MinMaxScaler()\n",
    "#normalize = scaler.fit_transform(wdata)\n",
    "scaler.fit(wData)"
   ]
  },
  {
   "cell_type": "code",
   "execution_count": 315,
   "id": "63d3da86-0d78-4b9b-8050-a84a726564e7",
   "metadata": {},
   "outputs": [],
   "source": [
    "#Splitting data into training and testing\n",
    "\n",
    "x_train, x_test, y_train, y_test = train_test_split(x,y,test_size = 0.2, random_state= 1)"
   ]
  },
  {
   "cell_type": "code",
   "execution_count": 316,
   "id": "f54c714b-e858-4ac0-9ccf-ef05961db357",
   "metadata": {},
   "outputs": [
    {
     "name": "stdout",
     "output_type": "stream",
     "text": [
      "The original values are : ['1' '0' '0' '0' '1' '1' '1' '0' '0' '1' '0' '1' '1' '1']\n",
      "The predicted values generated are : ['1' '0' '0' '0' '1' '1' '1' '0' '0' '1' '0' '1' '1' '1']\n",
      "Accuracy Score in Training Dataset : 14\n",
      "The original values are:  ['0' '0' '0' '0' '0' '0' '0' '1' '0' '1' '0' '0' '1' '1']\n",
      "The predicted values are : ['0' '0' '0' '0' '0' '0' '0' '1' '0' '1' '0' '1' '1' '1']\n",
      "Accuracy Score in Testing Dataset : 13\n"
     ]
    }
   ],
   "source": [
    "#Applying the RandomForestClassifier Model\n",
    "num_trees=5\n",
    "dt_model = RandomForestClassifier(random_state=1, max_depth= 8, max_samples=350, max_features=8,bootstrap= True, n_estimators=num_trees)\n",
    "\n",
    "#Fit RandomForestClassifier model\n",
    "dt_model.fit(x_train, y_train)\n",
    "\n",
    "\n",
    "predicted_values=dt_model.predict(x_train[0:14,:])\n",
    "original_values=y_train[:14]\n",
    "print(\"The original values are :\",original_values)\n",
    "print(\"The predicted values generated are :\", predicted_values)\n",
    "\n",
    "training_accuracy=accuracy_score(original_values, predicted_values, normalize=False)\n",
    "print(\"Accuracy Score in Training Dataset :\", training_accuracy)\n",
    "\n",
    "\n",
    "\n",
    "predicted_values=dt_model.predict(x_test[0:14,:])\n",
    "original_values=y_test[0:14]\n",
    "print(\"The original values are: \", original_values)\n",
    "print(\"The predicted values are :\", predicted_values)\n",
    "\n",
    "testing_accuracy=accuracy_score(original_values, predicted_values, normalize=False)\n",
    "print(\"Accuracy Score in Testing Dataset :\", testing_accuracy)"
   ]
  },
  {
   "cell_type": "code",
   "execution_count": 317,
   "id": "2ac7035a-d0f2-4523-8b39-4f49f3ac533a",
   "metadata": {},
   "outputs": [
    {
     "data": {
      "text/plain": [
       "<sklearn.metrics._plot.confusion_matrix.ConfusionMatrixDisplay at 0x7f82533c3460>"
      ]
     },
     "execution_count": 317,
     "metadata": {},
     "output_type": "execute_result"
    },
    {
     "data": {
      "image/png": "[encoded data removed]",
      "text/plain": [
       "<Figure size 720x720 with 2 Axes>"
      ]
     },
     "metadata": {
      "needs_background": "light"
     },
     "output_type": "display_data"
    }
   ],
   "source": [
    "#confusion matrix\n",
    "\n",
    "\n",
    "fig, ax = plt.subplots(figsize=(10, 10))\n",
    "plot_confusion_matrix(dt_model, x_test, y_test, cmap= plt.cm.Reds, ax = ax, normalize ='all')\n"
   ]
  },
  {
   "cell_type": "code",
   "execution_count": 318,
   "id": "8ec53dfc-8b9d-4d7e-b1a4-9f875ad84cbb",
   "metadata": {},
   "outputs": [
    {
     "name": "stdout",
     "output_type": "stream",
     "text": [
      "Average Model Train Accuracy is : 0.9528130671506352\n",
      "Average Test Accuracy of model 1 is : 0.8115942028985508\n"
     ]
    }
   ],
   "source": [
    "#Measuring the accuracy of the model\n",
    "training_accuracy = accuracy_score(y_train, dt_model.predict(x_train))\n",
    "print(\"Average Model Train Accuracy is :\", training_accuracy)\n",
    "\n",
    "testing_accuracy_model1 = accuracy_score(y_test, dt_model.predict(x_test))\n",
    "print(\"Average Test Accuracy of model 1 is :\", testing_accuracy_model1)"
   ]
  },
  {
   "cell_type": "code",
   "execution_count": 319,
   "id": "1d851f13-9659-4bdc-9d6f-2defddd36f3f",
   "metadata": {},
   "outputs": [],
   "source": [
    "#generating the dot file\n",
    "from sklearn.tree import export_graphviz\n",
    "\n",
    "viz = x\n",
    "\n",
    "for index in range(0, num_trees):\n",
    "    export_graphviz(dt_model.estimators_[index], out_file='tree'+str(index)+ '_.dot',\n",
    "                   feature_names = None,\n",
    "                   rounded = True, proportion = False,\n",
    "                   precision = 2, filled = True)\n"
   ]
  },
  {
   "cell_type": "markdown",
   "id": "7e3f2aaf-0865-40bc-ae09-3718edbc24ba",
   "metadata": {},
   "source": [
    "#Second Model = keras Neural Network "
   ]
  },
  {
   "cell_type": "code",
   "execution_count": 320,
   "id": "499216ff-5cf4-44b9-9af3-86bff60cdf0c",
   "metadata": {},
   "outputs": [
    {
     "data": {
      "text/html": [
       "<div>\n",
       "<style scoped>\n",
       "    .dataframe tbody tr th:only-of-type {\n",
       "        vertical-align: middle;\n",
       "    }\n",
       "\n",
       "    .dataframe tbody tr th {\n",
       "        vertical-align: top;\n",
       "    }\n",
       "\n",
       "    .dataframe thead th {\n",
       "        text-align: right;\n",
       "    }\n",
       "</style>\n",
       "<table border=\"1\" class=\"dataframe\">\n",
       "  <thead>\n",
       "    <tr style=\"text-align: right;\">\n",
       "      <th></th>\n",
       "      <th>0</th>\n",
       "      <th>1</th>\n",
       "      <th>2</th>\n",
       "      <th>3</th>\n",
       "      <th>4</th>\n",
       "      <th>5</th>\n",
       "      <th>6</th>\n",
       "      <th>7</th>\n",
       "      <th>8</th>\n",
       "      <th>9</th>\n",
       "      <th>10</th>\n",
       "      <th>11</th>\n",
       "      <th>12</th>\n",
       "      <th>13</th>\n",
       "      <th>14</th>\n",
       "    </tr>\n",
       "  </thead>\n",
       "  <tbody>\n",
       "    <tr>\n",
       "      <th>0</th>\n",
       "      <td>0</td>\n",
       "      <td>22.67</td>\n",
       "      <td>7</td>\n",
       "      <td>2</td>\n",
       "      <td>8</td>\n",
       "      <td>4</td>\n",
       "      <td>0.165</td>\n",
       "      <td>0</td>\n",
       "      <td>0</td>\n",
       "      <td>0</td>\n",
       "      <td>0</td>\n",
       "      <td>2</td>\n",
       "      <td>160</td>\n",
       "      <td>1</td>\n",
       "      <td>0</td>\n",
       "    </tr>\n",
       "    <tr>\n",
       "      <th>1</th>\n",
       "      <td>0</td>\n",
       "      <td>29.58</td>\n",
       "      <td>1.75</td>\n",
       "      <td>1</td>\n",
       "      <td>4</td>\n",
       "      <td>4</td>\n",
       "      <td>1.25</td>\n",
       "      <td>0</td>\n",
       "      <td>0</td>\n",
       "      <td>0</td>\n",
       "      <td>1</td>\n",
       "      <td>2</td>\n",
       "      <td>280</td>\n",
       "      <td>1</td>\n",
       "      <td>0</td>\n",
       "    </tr>\n",
       "    <tr>\n",
       "      <th>2</th>\n",
       "      <td>0</td>\n",
       "      <td>21.67</td>\n",
       "      <td>11.5</td>\n",
       "      <td>1</td>\n",
       "      <td>5</td>\n",
       "      <td>3</td>\n",
       "      <td>0</td>\n",
       "      <td>1</td>\n",
       "      <td>1</td>\n",
       "      <td>11</td>\n",
       "      <td>1</td>\n",
       "      <td>2</td>\n",
       "      <td>0</td>\n",
       "      <td>1</td>\n",
       "      <td>1</td>\n",
       "    </tr>\n",
       "    <tr>\n",
       "      <th>3</th>\n",
       "      <td>1</td>\n",
       "      <td>20.17</td>\n",
       "      <td>8.17</td>\n",
       "      <td>2</td>\n",
       "      <td>6</td>\n",
       "      <td>4</td>\n",
       "      <td>1.96</td>\n",
       "      <td>1</td>\n",
       "      <td>1</td>\n",
       "      <td>14</td>\n",
       "      <td>0</td>\n",
       "      <td>2</td>\n",
       "      <td>60</td>\n",
       "      <td>159</td>\n",
       "      <td>1</td>\n",
       "    </tr>\n",
       "    <tr>\n",
       "      <th>4</th>\n",
       "      <td>0</td>\n",
       "      <td>15.83</td>\n",
       "      <td>0.585</td>\n",
       "      <td>2</td>\n",
       "      <td>8</td>\n",
       "      <td>8</td>\n",
       "      <td>1.5</td>\n",
       "      <td>1</td>\n",
       "      <td>1</td>\n",
       "      <td>2</td>\n",
       "      <td>0</td>\n",
       "      <td>2</td>\n",
       "      <td>100</td>\n",
       "      <td>1</td>\n",
       "      <td>1</td>\n",
       "    </tr>\n",
       "  </tbody>\n",
       "</table>\n",
       "</div>"
      ],
      "text/plain": [
       "  0      1      2  3  4  5      6  7  8   9  10 11   12   13 14\n",
       "0  0  22.67      7  2  8  4  0.165  0  0   0  0  2  160    1  0\n",
       "1  0  29.58   1.75  1  4  4   1.25  0  0   0  1  2  280    1  0\n",
       "2  0  21.67   11.5  1  5  3      0  1  1  11  1  2    0    1  1\n",
       "3  1  20.17   8.17  2  6  4   1.96  1  1  14  0  2   60  159  1\n",
       "4  0  15.83  0.585  2  8  8    1.5  1  1   2  0  2  100    1  1"
      ]
     },
     "execution_count": 320,
     "metadata": {},
     "output_type": "execute_result"
    }
   ],
   "source": [
    "NNmodel = data.A.str.split(expand=True,)\n",
    "NNmodel.head()"
   ]
  },
  {
   "cell_type": "code",
   "execution_count": 321,
   "id": "3619f959-0497-4cec-b66d-8b83503d6091",
   "metadata": {},
   "outputs": [
    {
     "data": {
      "text/plain": [
       "0     float64\n",
       "1     float64\n",
       "2     float64\n",
       "3     float64\n",
       "4     float64\n",
       "5     float64\n",
       "6     float64\n",
       "7     float64\n",
       "8     float64\n",
       "9     float64\n",
       "10    float64\n",
       "11    float64\n",
       "12    float64\n",
       "13    float64\n",
       "14    float64\n",
       "dtype: object"
      ]
     },
     "execution_count": 321,
     "metadata": {},
     "output_type": "execute_result"
    }
   ],
   "source": [
    "for i in range(0,15):\n",
    "    NNmodel[i]= NNmodel[i].astype(float)\n",
    "NNmodel.dtypes"
   ]
  },
  {
   "cell_type": "code",
   "execution_count": 322,
   "id": "426aac45-a597-43ae-9668-ed6b1b346ad0",
   "metadata": {},
   "outputs": [
    {
     "name": "stdout",
     "output_type": "stream",
     "text": [
      "[[2.267e+01 7.000e+00 2.000e+00 ... 2.000e+00 1.600e+02 1.000e+00]\n",
      " [2.958e+01 1.750e+00 1.000e+00 ... 2.000e+00 2.800e+02 1.000e+00]\n",
      " [2.167e+01 1.150e+01 1.000e+00 ... 2.000e+00 0.000e+00 1.000e+00]\n",
      " ...\n",
      " [1.883e+01 9.540e+00 2.000e+00 ... 2.000e+00 1.000e+02 1.000e+00]\n",
      " [2.742e+01 1.450e+01 2.000e+00 ... 2.000e+00 1.200e+02 1.200e+01]\n",
      " [4.100e+01 4.000e-02 2.000e+00 ... 1.000e+00 5.600e+02 1.000e+00]]\n"
     ]
    }
   ],
   "source": [
    "x= NNmodel.iloc[:,1:14].values\n",
    "print (x)"
   ]
  },
  {
   "cell_type": "code",
   "execution_count": 323,
   "id": "1bcb1adb-f5c9-4c56-b491-c75327896cf0",
   "metadata": {},
   "outputs": [
    {
     "name": "stdout",
     "output_type": "stream",
     "text": [
      "[0. 0. 1. 1. 1. 0. 1. 0. 0. 1. 1. 0. 1. 0. 1. 1. 1. 0. 1. 0. 0. 0. 0. 0.\n",
      " 1. 0. 1. 1. 1. 1. 0. 0. 1. 0. 0. 1. 1. 1. 1. 1. 0. 1. 0. 0. 1. 0. 1. 0.\n",
      " 1. 0. 0. 0. 0. 0. 1. 1. 0. 1. 1. 0. 0. 1. 0. 1. 1. 0. 0. 0. 1. 0. 0. 0.\n",
      " 1. 1. 0. 0. 0. 0. 1. 1. 0. 0. 0. 0. 1. 0. 1. 1. 0. 0. 0. 0. 1. 0. 1. 0.\n",
      " 0. 0. 1. 0. 1. 1. 1. 0. 1. 1. 0. 1. 0. 0. 0. 0. 1. 0. 1. 1. 1. 1. 1. 1.\n",
      " 0. 0. 1. 1. 0. 1. 0. 1. 1. 1. 0. 0. 0. 0. 0. 0. 1. 1. 1. 0. 0. 0. 1. 0.\n",
      " 1. 1. 0. 0. 1. 1. 0. 0. 0. 1. 1. 1. 0. 1. 0. 0. 0. 1. 1. 0. 0. 0. 1. 0.\n",
      " 0. 0. 1. 0. 0. 1. 0. 0. 0. 1. 1. 0. 0. 1. 1. 1. 0. 0. 0. 0. 0. 0. 1. 0.\n",
      " 0. 0. 1. 1. 0. 0. 0. 1. 0. 1. 0. 1. 1. 0. 0. 0. 0. 1. 1. 0. 0. 0. 1. 0.\n",
      " 0. 0. 1. 1. 0. 1. 0. 0. 0. 0. 1. 1. 1. 1. 0. 0. 1. 1. 1. 0. 0. 0. 1. 1.\n",
      " 1. 1. 0. 0. 0. 0. 1. 1. 1. 0. 0. 1. 0. 1. 1. 1. 1. 0. 0. 0. 1. 0. 1. 1.\n",
      " 0. 0. 1. 0. 0. 0. 1. 0. 1. 1. 0. 0. 0. 1. 1. 0. 0. 0. 0. 0. 1. 1. 1. 0.\n",
      " 0. 0. 0. 1. 1. 1. 0. 0. 0. 1. 0. 1. 0. 0. 0. 0. 1. 0. 1. 0. 0. 0. 0. 0.\n",
      " 1. 1. 0. 0. 1. 0. 1. 1. 1. 1. 1. 1. 1. 0. 0. 0. 0. 1. 1. 1. 0. 0. 0. 1.\n",
      " 0. 1. 0. 0. 0. 1. 1. 1. 1. 1. 1. 1. 0. 1. 0. 1. 0. 0. 0. 0. 0. 1. 0. 1.\n",
      " 1. 0. 0. 0. 0. 0. 1. 0. 1. 1. 0. 0. 0. 1. 1. 1. 0. 0. 1. 1. 0. 0. 0. 1.\n",
      " 1. 0. 1. 1. 1. 1. 0. 0. 1. 1. 0. 0. 0. 0. 0. 0. 1. 0. 0. 0. 1. 1. 0. 1.\n",
      " 0. 0. 0. 1. 1. 1. 0. 0. 1. 0. 1. 1. 1. 0. 1. 0. 0. 1. 0. 0. 0. 1. 0. 0.\n",
      " 1. 0. 1. 0. 1. 1. 0. 1. 0. 0. 1. 0. 1. 1. 0. 0. 0. 0. 0. 1. 1. 0. 0. 1.\n",
      " 1. 0. 1. 0. 1. 0. 1. 0. 1. 1. 0. 1. 0. 1. 1. 1. 0. 0. 0. 0. 0. 1. 0. 1.\n",
      " 0. 0. 0. 1. 1. 1. 1. 1. 0. 1. 1. 0. 0. 0. 1. 1. 1. 1. 1. 1. 0. 1. 1. 1.\n",
      " 1. 0. 0. 0. 0. 0. 0. 0. 1. 0. 0. 1. 1. 1. 0. 1. 0. 0. 1. 1. 0. 1. 0. 0.\n",
      " 0. 0. 0. 0. 1. 0. 1. 0. 1. 1. 1. 0. 0. 1. 0. 0. 0. 0. 0. 0. 0. 1. 1. 0.\n",
      " 0. 0. 0. 0. 1. 0. 1. 0. 1. 0. 0. 1. 1. 1. 0. 0. 0. 0. 0. 1. 0. 1. 1. 0.\n",
      " 0. 0. 0. 0. 1. 1. 1. 0. 1. 0. 1. 1. 0. 0. 1. 0. 1. 0. 0. 1. 1. 0. 1. 0.\n",
      " 1. 1. 1. 1. 0. 0. 1. 0. 1. 1. 0. 1. 0. 1. 1. 0. 0. 0. 1. 0. 1. 1. 0. 1.\n",
      " 0. 0. 0. 0. 0. 1. 0. 1. 0. 0. 0. 0. 0. 0. 1. 0. 1. 1. 0. 0. 0. 0. 0. 0.\n",
      " 1. 1. 0. 0. 1. 0. 0. 1. 0. 0. 1. 1. 0. 1. 1. 0. 0. 0. 0. 0. 0. 1. 1. 0.\n",
      " 1. 1. 0. 0. 0. 0. 1. 0. 0. 1. 0. 1. 1. 0. 1. 1. 1.]\n"
     ]
    }
   ],
   "source": [
    "y = NNmodel.iloc[:,14].values\n",
    "print(y)"
   ]
  },
  {
   "cell_type": "code",
   "execution_count": 324,
   "id": "5186f4a8-0923-455c-8c70-2a394f359ee9",
   "metadata": {},
   "outputs": [],
   "source": [
    "#Splitting data into training and testing\n",
    "\n",
    "x_train, x_test, y_train, y_test = train_test_split(x,y,test_size = 0.2, random_state= 1)"
   ]
  },
  {
   "cell_type": "code",
   "execution_count": 325,
   "id": "c93c756d-394c-4474-a7a1-f4ed52f72684",
   "metadata": {},
   "outputs": [],
   "source": [
    "#Scaling the data\n",
    "sc = StandardScaler()\n",
    "\n",
    "x_train = sc.fit_transform(x_train)\n",
    "x_test = sc.transform(x_test)"
   ]
  },
  {
   "cell_type": "code",
   "execution_count": 326,
   "id": "16d208d5-21e7-46b0-b4ed-36fcbf0461fc",
   "metadata": {},
   "outputs": [
    {
     "name": "stdout",
     "output_type": "stream",
     "text": [
      "Model: \"sequential_3\"\n",
      "_________________________________________________________________\n",
      "Layer (type)                 Output Shape              Param #   \n",
      "=================================================================\n",
      "dense_9 (Dense)              (None, 7)                 98        \n",
      "_________________________________________________________________\n",
      "dense_10 (Dense)             (None, 7)                 56        \n",
      "_________________________________________________________________\n",
      "dense_11 (Dense)             (None, 1)                 8         \n",
      "=================================================================\n",
      "Total params: 162\n",
      "Trainable params: 162\n",
      "Non-trainable params: 0\n",
      "_________________________________________________________________\n"
     ]
    }
   ],
   "source": [
    "mdl = Sequential()\n",
    "\n",
    "mdl.add(Dense(units=7, kernel_initializer = 'uniform',activation= 'relu', input_dim=13))\n",
    "mdl.add(Dense(units=7, kernel_initializer = 'uniform',activation= 'relu'))\n",
    "mdl.add(Dense(units=1, kernel_initializer = 'uniform',activation= 'sigmoid'))\n",
    "mdl.compile(optimizer = 'adam', loss = 'binary_crossentropy',metrics = ['accuracy'])\n",
    "\n",
    "mdl.summary()"
   ]
  },
  {
   "cell_type": "code",
   "execution_count": 327,
   "id": "28e2f2a4-579d-41bd-878b-901dcc697b3e",
   "metadata": {},
   "outputs": [],
   "source": [
    "y_pred= mdl.predict(x_test)"
   ]
  },
  {
   "cell_type": "code",
   "execution_count": 328,
   "id": "4dc62820-cd0c-4430-8b60-37ca9a254bd8",
   "metadata": {},
   "outputs": [
    {
     "name": "stdout",
     "output_type": "stream",
     "text": [
      "Epoch 1/10\n",
      "2/2 [==============================] - 1s 5ms/step - loss: 0.6931 - accuracy: 0.5191\n",
      "Epoch 2/10\n",
      "2/2 [==============================] - 0s 6ms/step - loss: 0.6930 - accuracy: 0.5481\n",
      "Epoch 3/10\n",
      "2/2 [==============================] - 0s 14ms/step - loss: 0.6929 - accuracy: 0.5390\n",
      "Epoch 4/10\n",
      "2/2 [==============================] - 0s 7ms/step - loss: 0.6928 - accuracy: 0.5390\n",
      "Epoch 5/10\n",
      "2/2 [==============================] - 0s 11ms/step - loss: 0.6927 - accuracy: 0.5390\n",
      "Epoch 6/10\n",
      "2/2 [==============================] - 0s 8ms/step - loss: 0.6926 - accuracy: 0.5390\n",
      "Epoch 7/10\n",
      "2/2 [==============================] - 0s 5ms/step - loss: 0.6924 - accuracy: 0.5390\n",
      "Epoch 8/10\n",
      "2/2 [==============================] - 0s 6ms/step - loss: 0.6923 - accuracy: 0.5390\n",
      "Epoch 9/10\n",
      "2/2 [==============================] - 0s 6ms/step - loss: 0.6921 - accuracy: 0.5390\n",
      "Epoch 10/10\n",
      "2/2 [==============================] - 0s 3ms/step - loss: 0.6920 - accuracy: 0.5390\n"
     ]
    }
   ],
   "source": [
    "Modelhistory= mdl.fit(x_train,y_train, batch_size=350, epochs = 10)"
   ]
  },
  {
   "cell_type": "code",
   "execution_count": 329,
   "id": "758170f7-846d-435e-a2f5-e20098272089",
   "metadata": {},
   "outputs": [
    {
     "data": {
      "text/plain": [
       "dict_keys(['loss', 'accuracy'])"
      ]
     },
     "execution_count": 329,
     "metadata": {},
     "output_type": "execute_result"
    }
   ],
   "source": [
    "#ploting the history of the Neural network model training\n",
    "Modelhistory.history.keys()"
   ]
  },
  {
   "cell_type": "code",
   "execution_count": 330,
   "id": "efcf02ea-9a13-4887-af1d-929ef153cf00",
   "metadata": {},
   "outputs": [
    {
     "data": {
      "text/plain": [
       "Text(0.5, 1.0, 'Model Accuracy ')"
      ]
     },
     "execution_count": 330,
     "metadata": {},
     "output_type": "execute_result"
    },
    {
     "data": {
      "image/png": "[encoded data removed]",
      "text/plain": [
       "<Figure size 1584x720 with 2 Axes>"
      ]
     },
     "metadata": {
      "needs_background": "light"
     },
     "output_type": "display_data"
    }
   ],
   "source": [
    "plt.figure(figsize=(22,10))\n",
    "\n",
    "\n",
    "    #subplot(nrows, ncols, index, **kwargs)\n",
    "plt.subplot(2, 2, 1)\n",
    "plt.plot(Modelhistory.history['loss'])\n",
    "plt.title('Model Loss ')\n",
    "\n",
    "\n",
    "    #subplot(nrows, ncols, index, **kwargs)\n",
    "plt.subplot(2, 2, 2)\n",
    "plt.plot(Modelhistory.history['accuracy'])\n",
    "plt.title('Model Accuracy ')\n"
   ]
  },
  {
   "cell_type": "code",
   "execution_count": 331,
   "id": "1b68ed10-d2c4-44a8-bec9-562564d163f5",
   "metadata": {},
   "outputs": [
    {
     "name": "stdout",
     "output_type": "stream",
     "text": [
      "5/5 [==============================] - 0s 2ms/step - loss: 0.6907 - accuracy: 0.6159\n"
     ]
    }
   ],
   "source": [
    "# Evaluating the Neural network Model's algorithm\n",
    " \n",
    "testing_accuracy_model2 = mdl.evaluate(x_test,y_test)"
   ]
  },
  {
   "cell_type": "code",
   "execution_count": 332,
   "id": "b263a738-58bb-43f0-9278-008baadd9ce8",
   "metadata": {},
   "outputs": [
    {
     "data": {
      "text/plain": [
       "0.0"
      ]
     },
     "execution_count": 332,
     "metadata": {},
     "output_type": "execute_result"
    }
   ],
   "source": [
    "predictions = mdl.predict(x_test)\n",
    "\n",
    "predictions[0]\n",
    "\n",
    "y_test[0]"
   ]
  },
  {
   "cell_type": "code",
   "execution_count": null,
   "id": "8c5257e6-96e4-4fa6-8ebb-d0e89f95df43",
   "metadata": {},
   "outputs": [],
   "source": []
  },
  {
   "cell_type": "markdown",
   "id": "139d0e2b-3448-4655-9d2b-f5d730eedd2f",
   "metadata": {},
   "source": [
    "NOW COMPARING BOTH MODELS  (NN and RANDOM FOREST).\n",
    "\n",
    "\n",
    "CONDITIONAL STATEMENT HELPS SHOW THE BEST MODEL\n"
   ]
  },
  {
   "cell_type": "code",
   "execution_count": 450,
   "id": "8a3a2858-3b7c-487d-b18b-e7bd1582db0c",
   "metadata": {},
   "outputs": [
    {
     "name": "stdout",
     "output_type": "stream",
     "text": [
      "Random Forest Model : 0.8115942028985508\n"
     ]
    }
   ],
   "source": [
    "if np.where(testing_accuracy_model1 >= testing_accuracy_model2):\n",
    "        print('Random Forest Model :', testing_accuracy_model1)\n",
    "else:\n",
    "        print('Neural Network Model :', testing_accuracy_model2)"
   ]
  },
  {
   "cell_type": "code",
   "execution_count": null,
   "id": "57e2ec84-ac44-4e76-8623-7a9cc4fca4d3",
   "metadata": {},
   "outputs": [],
   "source": []
  },
  {
   "cell_type": "code",
   "execution_count": 449,
   "id": "00e36f2c-9c11-4821-8f3f-81dc78538da1",
   "metadata": {},
   "outputs": [
    {
     "name": "stdout",
     "output_type": "stream",
     "text": [
      " Between Random Forest Model Test Accuracy : 0.8115942028985508\n",
      "\n",
      " and Neural Network Model loss and Test Accuracy : [0.6907144784927368, 0.6159420013427734]\n",
      "\n",
      " Results show the best model is  0.8115942028985508\n"
     ]
    }
   ],
   "source": [
    "print(\" Between Random Forest Model Test Accuracy :\", testing_accuracy_model1) \n",
    "print (\"\\n and Neural Network Model loss and Test Accuracy :\", testing_accuracy_model2)\n",
    "\n",
    "\n",
    "print(\"\\n Results show the best model is \" , testing_accuracy_model1)\n"
   ]
  },
  {
   "cell_type": "code",
   "execution_count": null,
   "id": "6528023e-c1b7-432c-ab22-f9f999746f7a",
   "metadata": {},
   "outputs": [],
   "source": []
  },
  {
   "cell_type": "markdown",
   "id": "560a7ae0-c122-450c-bf34-2580f4c4ace1",
   "metadata": {},
   "source": [
    "APPLYING THE CHOSEN MODEL TO OUR X_TEST"
   ]
  },
  {
   "cell_type": "code",
   "execution_count": null,
   "id": "cbfb9fa3-bc9d-4c7f-9cbb-cf37da7b8214",
   "metadata": {},
   "outputs": [],
   "source": [
    "#SAVING THE MODEL"
   ]
  },
  {
   "cell_type": "code",
   "execution_count": 391,
   "id": "1c101fdb-4ce9-48dc-898b-9bf2880033d8",
   "metadata": {},
   "outputs": [],
   "source": [
    "with open('dt_model.pickle', 'wb')as f:\n",
    "    pickle.dump(dt_model, f)\n",
    "        "
   ]
  },
  {
   "cell_type": "code",
   "execution_count": null,
   "id": "a2f4d7a6-76e4-43c4-ab51-899b5abb7fc9",
   "metadata": {},
   "outputs": [],
   "source": [
    "#LOADING THE MODEL"
   ]
  },
  {
   "cell_type": "code",
   "execution_count": 392,
   "id": "5aa7a3e4-30d2-4c36-8268-f7af7dec4d08",
   "metadata": {},
   "outputs": [],
   "source": [
    "with open('dt_model.pickle', 'rb')as f:\n",
    "    model = pickle.load(f)"
   ]
  },
  {
   "cell_type": "code",
   "execution_count": 446,
   "id": "5c0646c8-ec01-4b81-91c1-7fd10438fdd9",
   "metadata": {},
   "outputs": [
    {
     "name": "stdout",
     "output_type": "stream",
     "text": [
      "['0' '0' '0' '0' '0' '0' '0' '0' '0' '0' '0' '0' '0' '0' '0' '0' '1' '0'\n",
      " '0' '0' '0' '0' '0' '0' '0' '0' '1' '0' '0' '0' '0' '0' '0' '0' '0' '0'\n",
      " '1' '0' '0' '1' '0' '0' '1' '0' '0' '0' '1' '0' '0' '0' '0' '0' '1' '0'\n",
      " '1' '0' '0' '1' '1' '0' '0' '0' '0' '0' '0' '0' '0' '0' '0' '0' '0' '0'\n",
      " '1' '0' '0' '0' '0' '0' '0' '1' '1' '0' '0' '0' '0' '0' '0' '0' '0' '1'\n",
      " '0' '0' '0' '0' '0' '0' '0' '1' '0' '0' '0' '1' '1' '0' '0' '0' '0' '1'\n",
      " '0' '1' '0' '0' '0' '0' '0' '0' '0' '0' '0' '0' '0' '0' '1' '0' '1' '0'\n",
      " '0' '0' '0' '0' '0' '0' '1' '0' '1' '0' '0' '0']\n"
     ]
    }
   ],
   "source": [
    "loaded_model = model.predict(x_test)\n",
    "print(loaded_model)"
   ]
  },
  {
   "cell_type": "code",
   "execution_count": null,
   "id": "2a945a87-f1ad-4abc-b3bd-eafa51e29fa3",
   "metadata": {},
   "outputs": [],
   "source": []
  }
 ],
 "metadata": {
  "kernelspec": {
   "display_name": "Python 3",
   "language": "python",
   "name": "python3"
  },
  "language_info": {
   "codemirror_mode": {
    "name": "ipython",
    "version": 3
   },
   "file_extension": ".py",
   "mimetype": "text/x-python",
   "name": "python",
   "nbconvert_exporter": "python",
   "pygments_lexer": "ipython3",
   "version": "3.8.8"
  },
  "toc-autonumbering": false,
  "toc-showcode": false,
  "toc-showmarkdowntxt": false,
  "toc-showtags": false
 },
 "nbformat": 4,
 "nbformat_minor": 5
}
